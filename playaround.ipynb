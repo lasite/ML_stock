{
 "cells": [
  {
   "cell_type": "code",
   "execution_count": 31,
   "metadata": {
    "collapsed": true
   },
   "outputs": [],
   "source": [
    "import tensorflow as tf\n",
    "import numpy as np\n",
    "import pandas as pd\n",
    "import math\n",
    "import data_collecter_sohu as sohu_dc\n",
    "pd.set_option('display.width',180)  \n",
    "df_002024=sohu_dc.get_hist_data('002024','20080101','20171215')\n",
    "df_002024_norm=(df_002024-df_002024.min())/(df_002024.max()-df_002024.min())"
   ]
  },
  {
   "cell_type": "code",
   "execution_count": 32,
   "metadata": {
    "collapsed": true
   },
   "outputs": [],
   "source": [
    "features_placeholder = tf.placeholder(tf.float32, shape=(None,85))"
   ]
  },
  {
   "cell_type": "code",
   "execution_count": 37,
   "metadata": {
    "collapsed": true
   },
   "outputs": [],
   "source": [
    "def prediction():                                                                              \n",
    "    with tf.name_scope('hidden1'):\n",
    "        weights = tf.Variable(tf.truncated_normal([85, 70],stddev=1.0 / math.sqrt(float(85))),name='weights')\n",
    "        biases = tf.Variable(tf.zeros([70]),name='biases')\n",
    "        hidden1 = tf.nn.tanh(tf.matmul(features_placeholder, weights) + biases)\n",
    "    with tf.name_scope('hidden2'):\n",
    "        weights = tf.Variable(\n",
    "            tf.truncated_normal([70, 20],stddev=1.0 / math.sqrt(float(70))),name='weights')\n",
    "        biases = tf.Variable(tf.zeros([20]),name='biases')\n",
    "        hidden2 = tf.nn.tanh(tf.matmul(hidden1, weights) + biases)\n",
    "    with tf.name_scope('softmax_linear'):\n",
    "        weights = tf.Variable(tf.truncated_normal([20, 2],stddev=1.0 / math.sqrt(float(20))),name='weights')\n",
    "        biases = tf.Variable(tf.zeros([2]),name='biases')\n",
    "        logits = tf.matmul(hidden2, weights) + biases\n",
    "    return logits"
   ]
  },
  {
   "cell_type": "code",
   "execution_count": 38,
   "metadata": {
    "collapsed": true
   },
   "outputs": [],
   "source": [
    "predic=prediction()\n",
    "sess=tf.Session()\n",
    "saver = tf.train.Saver(tf.global_variables())"
   ]
  },
  {
   "cell_type": "code",
   "execution_count": 42,
   "metadata": {},
   "outputs": [],
   "source": [
    "positive_samples=df_002024[df_002024.p_change_rate>=3]"
   ]
  },
  {
   "cell_type": "code",
   "execution_count": 43,
   "metadata": {},
   "outputs": [
    {
     "data": {
      "text/plain": [
       "526"
      ]
     },
     "execution_count": 43,
     "metadata": {},
     "output_type": "execute_result"
    }
   ],
   "source": [
    "positive_samples.index.size\n"
   ]
  },
  {
   "cell_type": "code",
   "execution_count": 39,
   "metadata": {},
   "outputs": [
    {
     "data": {
      "text/plain": [
       "139759788700616"
      ]
     },
     "execution_count": 39,
     "metadata": {},
     "output_type": "execute_result"
    }
   ],
   "source": [
    "c1=tf.get_collection(tf.GraphKeys.GLOBAL_VARIABLES)\n",
    "id(c1[0])"
   ]
  },
  {
   "cell_type": "code",
   "execution_count": 40,
   "metadata": {},
   "outputs": [
    {
     "name": "stdout",
     "output_type": "stream",
     "text": [
      "INFO:tensorflow:Restoring parameters from /tmp/tensorflow/stock/logs/fully_connected_feed/model.ckpt-399999\n"
     ]
    },
    {
     "ename": "NotFoundError",
     "evalue": "Key hidden1_2/biases not found in checkpoint\n\t [[Node: save_2/RestoreV2_4 = RestoreV2[dtypes=[DT_FLOAT], _device=\"/job:localhost/replica:0/task:0/device:CPU:0\"](_arg_save_2/Const_0_0, save_2/RestoreV2_4/tensor_names, save_2/RestoreV2_4/shape_and_slices)]]\n\nCaused by op 'save_2/RestoreV2_4', defined at:\n  File \"/home/tr/bin/anaconda2/envs/python3/lib/python3.5/runpy.py\", line 193, in _run_module_as_main\n    \"__main__\", mod_spec)\n  File \"/home/tr/bin/anaconda2/envs/python3/lib/python3.5/runpy.py\", line 85, in _run_code\n    exec(code, run_globals)\n  File \"/home/tr/bin/anaconda2/envs/python3/lib/python3.5/site-packages/ipykernel_launcher.py\", line 16, in <module>\n    app.launch_new_instance()\n  File \"/home/tr/bin/anaconda2/envs/python3/lib/python3.5/site-packages/traitlets/config/application.py\", line 658, in launch_instance\n    app.start()\n  File \"/home/tr/bin/anaconda2/envs/python3/lib/python3.5/site-packages/ipykernel/kernelapp.py\", line 477, in start\n    ioloop.IOLoop.instance().start()\n  File \"/home/tr/bin/anaconda2/envs/python3/lib/python3.5/site-packages/zmq/eventloop/ioloop.py\", line 177, in start\n    super(ZMQIOLoop, self).start()\n  File \"/home/tr/bin/anaconda2/envs/python3/lib/python3.5/site-packages/tornado/ioloop.py\", line 888, in start\n    handler_func(fd_obj, events)\n  File \"/home/tr/bin/anaconda2/envs/python3/lib/python3.5/site-packages/tornado/stack_context.py\", line 277, in null_wrapper\n    return fn(*args, **kwargs)\n  File \"/home/tr/bin/anaconda2/envs/python3/lib/python3.5/site-packages/zmq/eventloop/zmqstream.py\", line 440, in _handle_events\n    self._handle_recv()\n  File \"/home/tr/bin/anaconda2/envs/python3/lib/python3.5/site-packages/zmq/eventloop/zmqstream.py\", line 472, in _handle_recv\n    self._run_callback(callback, msg)\n  File \"/home/tr/bin/anaconda2/envs/python3/lib/python3.5/site-packages/zmq/eventloop/zmqstream.py\", line 414, in _run_callback\n    callback(*args, **kwargs)\n  File \"/home/tr/bin/anaconda2/envs/python3/lib/python3.5/site-packages/tornado/stack_context.py\", line 277, in null_wrapper\n    return fn(*args, **kwargs)\n  File \"/home/tr/bin/anaconda2/envs/python3/lib/python3.5/site-packages/ipykernel/kernelbase.py\", line 283, in dispatcher\n    return self.dispatch_shell(stream, msg)\n  File \"/home/tr/bin/anaconda2/envs/python3/lib/python3.5/site-packages/ipykernel/kernelbase.py\", line 235, in dispatch_shell\n    handler(stream, idents, msg)\n  File \"/home/tr/bin/anaconda2/envs/python3/lib/python3.5/site-packages/ipykernel/kernelbase.py\", line 399, in execute_request\n    user_expressions, allow_stdin)\n  File \"/home/tr/bin/anaconda2/envs/python3/lib/python3.5/site-packages/ipykernel/ipkernel.py\", line 196, in do_execute\n    res = shell.run_cell(code, store_history=store_history, silent=silent)\n  File \"/home/tr/bin/anaconda2/envs/python3/lib/python3.5/site-packages/ipykernel/zmqshell.py\", line 533, in run_cell\n    return super(ZMQInteractiveShell, self).run_cell(*args, **kwargs)\n  File \"/home/tr/bin/anaconda2/envs/python3/lib/python3.5/site-packages/IPython/core/interactiveshell.py\", line 2698, in run_cell\n    interactivity=interactivity, compiler=compiler, result=result)\n  File \"/home/tr/bin/anaconda2/envs/python3/lib/python3.5/site-packages/IPython/core/interactiveshell.py\", line 2802, in run_ast_nodes\n    if self.run_code(code, result):\n  File \"/home/tr/bin/anaconda2/envs/python3/lib/python3.5/site-packages/IPython/core/interactiveshell.py\", line 2862, in run_code\n    exec(code_obj, self.user_global_ns, self.user_ns)\n  File \"<ipython-input-38-150a783b3c63>\", line 3, in <module>\n    saver = tf.train.Saver(tf.global_variables())\n  File \"/home/tr/bin/anaconda2/envs/python3/lib/python3.5/site-packages/tensorflow/python/training/saver.py\", line 1218, in __init__\n    self.build()\n  File \"/home/tr/bin/anaconda2/envs/python3/lib/python3.5/site-packages/tensorflow/python/training/saver.py\", line 1227, in build\n    self._build(self._filename, build_save=True, build_restore=True)\n  File \"/home/tr/bin/anaconda2/envs/python3/lib/python3.5/site-packages/tensorflow/python/training/saver.py\", line 1263, in _build\n    build_save=build_save, build_restore=build_restore)\n  File \"/home/tr/bin/anaconda2/envs/python3/lib/python3.5/site-packages/tensorflow/python/training/saver.py\", line 751, in _build_internal\n    restore_sequentially, reshape)\n  File \"/home/tr/bin/anaconda2/envs/python3/lib/python3.5/site-packages/tensorflow/python/training/saver.py\", line 427, in _AddRestoreOps\n    tensors = self.restore_op(filename_tensor, saveable, preferred_shard)\n  File \"/home/tr/bin/anaconda2/envs/python3/lib/python3.5/site-packages/tensorflow/python/training/saver.py\", line 267, in restore_op\n    [spec.tensor.dtype])[0])\n  File \"/home/tr/bin/anaconda2/envs/python3/lib/python3.5/site-packages/tensorflow/python/ops/gen_io_ops.py\", line 1021, in restore_v2\n    shape_and_slices=shape_and_slices, dtypes=dtypes, name=name)\n  File \"/home/tr/bin/anaconda2/envs/python3/lib/python3.5/site-packages/tensorflow/python/framework/op_def_library.py\", line 787, in _apply_op_helper\n    op_def=op_def)\n  File \"/home/tr/bin/anaconda2/envs/python3/lib/python3.5/site-packages/tensorflow/python/framework/ops.py\", line 2956, in create_op\n    op_def=op_def)\n  File \"/home/tr/bin/anaconda2/envs/python3/lib/python3.5/site-packages/tensorflow/python/framework/ops.py\", line 1470, in __init__\n    self._traceback = self._graph._extract_stack()  # pylint: disable=protected-access\n\nNotFoundError (see above for traceback): Key hidden1_2/biases not found in checkpoint\n\t [[Node: save_2/RestoreV2_4 = RestoreV2[dtypes=[DT_FLOAT], _device=\"/job:localhost/replica:0/task:0/device:CPU:0\"](_arg_save_2/Const_0_0, save_2/RestoreV2_4/tensor_names, save_2/RestoreV2_4/shape_and_slices)]]\n",
     "output_type": "error",
     "traceback": [
      "\u001b[0;31m---------------------------------------------------------------------------\u001b[0m",
      "\u001b[0;31mNotFoundError\u001b[0m                             Traceback (most recent call last)",
      "\u001b[0;32m~/bin/anaconda2/envs/python3/lib/python3.5/site-packages/tensorflow/python/client/session.py\u001b[0m in \u001b[0;36m_do_call\u001b[0;34m(self, fn, *args)\u001b[0m\n\u001b[1;32m   1322\u001b[0m     \u001b[0;32mtry\u001b[0m\u001b[0;34m:\u001b[0m\u001b[0;34m\u001b[0m\u001b[0m\n\u001b[0;32m-> 1323\u001b[0;31m       \u001b[0;32mreturn\u001b[0m \u001b[0mfn\u001b[0m\u001b[0;34m(\u001b[0m\u001b[0;34m*\u001b[0m\u001b[0margs\u001b[0m\u001b[0;34m)\u001b[0m\u001b[0;34m\u001b[0m\u001b[0m\n\u001b[0m\u001b[1;32m   1324\u001b[0m     \u001b[0;32mexcept\u001b[0m \u001b[0merrors\u001b[0m\u001b[0;34m.\u001b[0m\u001b[0mOpError\u001b[0m \u001b[0;32mas\u001b[0m \u001b[0me\u001b[0m\u001b[0;34m:\u001b[0m\u001b[0;34m\u001b[0m\u001b[0m\n",
      "\u001b[0;32m~/bin/anaconda2/envs/python3/lib/python3.5/site-packages/tensorflow/python/client/session.py\u001b[0m in \u001b[0;36m_run_fn\u001b[0;34m(session, feed_dict, fetch_list, target_list, options, run_metadata)\u001b[0m\n\u001b[1;32m   1301\u001b[0m                                    \u001b[0mfeed_dict\u001b[0m\u001b[0;34m,\u001b[0m \u001b[0mfetch_list\u001b[0m\u001b[0;34m,\u001b[0m \u001b[0mtarget_list\u001b[0m\u001b[0;34m,\u001b[0m\u001b[0;34m\u001b[0m\u001b[0m\n\u001b[0;32m-> 1302\u001b[0;31m                                    status, run_metadata)\n\u001b[0m\u001b[1;32m   1303\u001b[0m \u001b[0;34m\u001b[0m\u001b[0m\n",
      "\u001b[0;32m~/bin/anaconda2/envs/python3/lib/python3.5/site-packages/tensorflow/python/framework/errors_impl.py\u001b[0m in \u001b[0;36m__exit__\u001b[0;34m(self, type_arg, value_arg, traceback_arg)\u001b[0m\n\u001b[1;32m    472\u001b[0m             \u001b[0mcompat\u001b[0m\u001b[0;34m.\u001b[0m\u001b[0mas_text\u001b[0m\u001b[0;34m(\u001b[0m\u001b[0mc_api\u001b[0m\u001b[0;34m.\u001b[0m\u001b[0mTF_Message\u001b[0m\u001b[0;34m(\u001b[0m\u001b[0mself\u001b[0m\u001b[0;34m.\u001b[0m\u001b[0mstatus\u001b[0m\u001b[0;34m.\u001b[0m\u001b[0mstatus\u001b[0m\u001b[0;34m)\u001b[0m\u001b[0;34m)\u001b[0m\u001b[0;34m,\u001b[0m\u001b[0;34m\u001b[0m\u001b[0m\n\u001b[0;32m--> 473\u001b[0;31m             c_api.TF_GetCode(self.status.status))\n\u001b[0m\u001b[1;32m    474\u001b[0m     \u001b[0;31m# Delete the underlying status object from memory otherwise it stays alive\u001b[0m\u001b[0;34m\u001b[0m\u001b[0;34m\u001b[0m\u001b[0m\n",
      "\u001b[0;31mNotFoundError\u001b[0m: Key hidden1_2/biases not found in checkpoint\n\t [[Node: save_2/RestoreV2_4 = RestoreV2[dtypes=[DT_FLOAT], _device=\"/job:localhost/replica:0/task:0/device:CPU:0\"](_arg_save_2/Const_0_0, save_2/RestoreV2_4/tensor_names, save_2/RestoreV2_4/shape_and_slices)]]",
      "\nDuring handling of the above exception, another exception occurred:\n",
      "\u001b[0;31mNotFoundError\u001b[0m                             Traceback (most recent call last)",
      "\u001b[0;32m<ipython-input-40-df07db46833b>\u001b[0m in \u001b[0;36m<module>\u001b[0;34m()\u001b[0m\n\u001b[0;32m----> 1\u001b[0;31m \u001b[0msaver\u001b[0m\u001b[0;34m.\u001b[0m\u001b[0mrestore\u001b[0m\u001b[0;34m(\u001b[0m\u001b[0msess\u001b[0m\u001b[0;34m,\u001b[0m\u001b[0;34m'/tmp/tensorflow/stock/logs/fully_connected_feed/model.ckpt-399999'\u001b[0m\u001b[0;34m)\u001b[0m\u001b[0;34m\u001b[0m\u001b[0m\n\u001b[0m",
      "\u001b[0;32m~/bin/anaconda2/envs/python3/lib/python3.5/site-packages/tensorflow/python/training/saver.py\u001b[0m in \u001b[0;36mrestore\u001b[0;34m(self, sess, save_path)\u001b[0m\n\u001b[1;32m   1664\u001b[0m     \u001b[0;32mif\u001b[0m \u001b[0mcontext\u001b[0m\u001b[0;34m.\u001b[0m\u001b[0min_graph_mode\u001b[0m\u001b[0;34m(\u001b[0m\u001b[0;34m)\u001b[0m\u001b[0;34m:\u001b[0m\u001b[0;34m\u001b[0m\u001b[0m\n\u001b[1;32m   1665\u001b[0m       sess.run(self.saver_def.restore_op_name,\n\u001b[0;32m-> 1666\u001b[0;31m                {self.saver_def.filename_tensor_name: save_path})\n\u001b[0m\u001b[1;32m   1667\u001b[0m     \u001b[0;32melse\u001b[0m\u001b[0;34m:\u001b[0m\u001b[0;34m\u001b[0m\u001b[0m\n\u001b[1;32m   1668\u001b[0m       \u001b[0mself\u001b[0m\u001b[0;34m.\u001b[0m\u001b[0m_build_eager\u001b[0m\u001b[0;34m(\u001b[0m\u001b[0msave_path\u001b[0m\u001b[0;34m,\u001b[0m \u001b[0mbuild_save\u001b[0m\u001b[0;34m=\u001b[0m\u001b[0;32mFalse\u001b[0m\u001b[0;34m,\u001b[0m \u001b[0mbuild_restore\u001b[0m\u001b[0;34m=\u001b[0m\u001b[0;32mTrue\u001b[0m\u001b[0;34m)\u001b[0m\u001b[0;34m\u001b[0m\u001b[0m\n",
      "\u001b[0;32m~/bin/anaconda2/envs/python3/lib/python3.5/site-packages/tensorflow/python/client/session.py\u001b[0m in \u001b[0;36mrun\u001b[0;34m(self, fetches, feed_dict, options, run_metadata)\u001b[0m\n\u001b[1;32m    887\u001b[0m     \u001b[0;32mtry\u001b[0m\u001b[0;34m:\u001b[0m\u001b[0;34m\u001b[0m\u001b[0m\n\u001b[1;32m    888\u001b[0m       result = self._run(None, fetches, feed_dict, options_ptr,\n\u001b[0;32m--> 889\u001b[0;31m                          run_metadata_ptr)\n\u001b[0m\u001b[1;32m    890\u001b[0m       \u001b[0;32mif\u001b[0m \u001b[0mrun_metadata\u001b[0m\u001b[0;34m:\u001b[0m\u001b[0;34m\u001b[0m\u001b[0m\n\u001b[1;32m    891\u001b[0m         \u001b[0mproto_data\u001b[0m \u001b[0;34m=\u001b[0m \u001b[0mtf_session\u001b[0m\u001b[0;34m.\u001b[0m\u001b[0mTF_GetBuffer\u001b[0m\u001b[0;34m(\u001b[0m\u001b[0mrun_metadata_ptr\u001b[0m\u001b[0;34m)\u001b[0m\u001b[0;34m\u001b[0m\u001b[0m\n",
      "\u001b[0;32m~/bin/anaconda2/envs/python3/lib/python3.5/site-packages/tensorflow/python/client/session.py\u001b[0m in \u001b[0;36m_run\u001b[0;34m(self, handle, fetches, feed_dict, options, run_metadata)\u001b[0m\n\u001b[1;32m   1118\u001b[0m     \u001b[0;32mif\u001b[0m \u001b[0mfinal_fetches\u001b[0m \u001b[0;32mor\u001b[0m \u001b[0mfinal_targets\u001b[0m \u001b[0;32mor\u001b[0m \u001b[0;34m(\u001b[0m\u001b[0mhandle\u001b[0m \u001b[0;32mand\u001b[0m \u001b[0mfeed_dict_tensor\u001b[0m\u001b[0;34m)\u001b[0m\u001b[0;34m:\u001b[0m\u001b[0;34m\u001b[0m\u001b[0m\n\u001b[1;32m   1119\u001b[0m       results = self._do_run(handle, final_targets, final_fetches,\n\u001b[0;32m-> 1120\u001b[0;31m                              feed_dict_tensor, options, run_metadata)\n\u001b[0m\u001b[1;32m   1121\u001b[0m     \u001b[0;32melse\u001b[0m\u001b[0;34m:\u001b[0m\u001b[0;34m\u001b[0m\u001b[0m\n\u001b[1;32m   1122\u001b[0m       \u001b[0mresults\u001b[0m \u001b[0;34m=\u001b[0m \u001b[0;34m[\u001b[0m\u001b[0;34m]\u001b[0m\u001b[0;34m\u001b[0m\u001b[0m\n",
      "\u001b[0;32m~/bin/anaconda2/envs/python3/lib/python3.5/site-packages/tensorflow/python/client/session.py\u001b[0m in \u001b[0;36m_do_run\u001b[0;34m(self, handle, target_list, fetch_list, feed_dict, options, run_metadata)\u001b[0m\n\u001b[1;32m   1315\u001b[0m     \u001b[0;32mif\u001b[0m \u001b[0mhandle\u001b[0m \u001b[0;32mis\u001b[0m \u001b[0;32mNone\u001b[0m\u001b[0;34m:\u001b[0m\u001b[0;34m\u001b[0m\u001b[0m\n\u001b[1;32m   1316\u001b[0m       return self._do_call(_run_fn, self._session, feeds, fetches, targets,\n\u001b[0;32m-> 1317\u001b[0;31m                            options, run_metadata)\n\u001b[0m\u001b[1;32m   1318\u001b[0m     \u001b[0;32melse\u001b[0m\u001b[0;34m:\u001b[0m\u001b[0;34m\u001b[0m\u001b[0m\n\u001b[1;32m   1319\u001b[0m       \u001b[0;32mreturn\u001b[0m \u001b[0mself\u001b[0m\u001b[0;34m.\u001b[0m\u001b[0m_do_call\u001b[0m\u001b[0;34m(\u001b[0m\u001b[0m_prun_fn\u001b[0m\u001b[0;34m,\u001b[0m \u001b[0mself\u001b[0m\u001b[0;34m.\u001b[0m\u001b[0m_session\u001b[0m\u001b[0;34m,\u001b[0m \u001b[0mhandle\u001b[0m\u001b[0;34m,\u001b[0m \u001b[0mfeeds\u001b[0m\u001b[0;34m,\u001b[0m \u001b[0mfetches\u001b[0m\u001b[0;34m)\u001b[0m\u001b[0;34m\u001b[0m\u001b[0m\n",
      "\u001b[0;32m~/bin/anaconda2/envs/python3/lib/python3.5/site-packages/tensorflow/python/client/session.py\u001b[0m in \u001b[0;36m_do_call\u001b[0;34m(self, fn, *args)\u001b[0m\n\u001b[1;32m   1334\u001b[0m         \u001b[0;32mexcept\u001b[0m \u001b[0mKeyError\u001b[0m\u001b[0;34m:\u001b[0m\u001b[0;34m\u001b[0m\u001b[0m\n\u001b[1;32m   1335\u001b[0m           \u001b[0;32mpass\u001b[0m\u001b[0;34m\u001b[0m\u001b[0m\n\u001b[0;32m-> 1336\u001b[0;31m       \u001b[0;32mraise\u001b[0m \u001b[0mtype\u001b[0m\u001b[0;34m(\u001b[0m\u001b[0me\u001b[0m\u001b[0;34m)\u001b[0m\u001b[0;34m(\u001b[0m\u001b[0mnode_def\u001b[0m\u001b[0;34m,\u001b[0m \u001b[0mop\u001b[0m\u001b[0;34m,\u001b[0m \u001b[0mmessage\u001b[0m\u001b[0;34m)\u001b[0m\u001b[0;34m\u001b[0m\u001b[0m\n\u001b[0m\u001b[1;32m   1337\u001b[0m \u001b[0;34m\u001b[0m\u001b[0m\n\u001b[1;32m   1338\u001b[0m   \u001b[0;32mdef\u001b[0m \u001b[0m_extend_graph\u001b[0m\u001b[0;34m(\u001b[0m\u001b[0mself\u001b[0m\u001b[0;34m)\u001b[0m\u001b[0;34m:\u001b[0m\u001b[0;34m\u001b[0m\u001b[0m\n",
      "\u001b[0;31mNotFoundError\u001b[0m: Key hidden1_2/biases not found in checkpoint\n\t [[Node: save_2/RestoreV2_4 = RestoreV2[dtypes=[DT_FLOAT], _device=\"/job:localhost/replica:0/task:0/device:CPU:0\"](_arg_save_2/Const_0_0, save_2/RestoreV2_4/tensor_names, save_2/RestoreV2_4/shape_and_slices)]]\n\nCaused by op 'save_2/RestoreV2_4', defined at:\n  File \"/home/tr/bin/anaconda2/envs/python3/lib/python3.5/runpy.py\", line 193, in _run_module_as_main\n    \"__main__\", mod_spec)\n  File \"/home/tr/bin/anaconda2/envs/python3/lib/python3.5/runpy.py\", line 85, in _run_code\n    exec(code, run_globals)\n  File \"/home/tr/bin/anaconda2/envs/python3/lib/python3.5/site-packages/ipykernel_launcher.py\", line 16, in <module>\n    app.launch_new_instance()\n  File \"/home/tr/bin/anaconda2/envs/python3/lib/python3.5/site-packages/traitlets/config/application.py\", line 658, in launch_instance\n    app.start()\n  File \"/home/tr/bin/anaconda2/envs/python3/lib/python3.5/site-packages/ipykernel/kernelapp.py\", line 477, in start\n    ioloop.IOLoop.instance().start()\n  File \"/home/tr/bin/anaconda2/envs/python3/lib/python3.5/site-packages/zmq/eventloop/ioloop.py\", line 177, in start\n    super(ZMQIOLoop, self).start()\n  File \"/home/tr/bin/anaconda2/envs/python3/lib/python3.5/site-packages/tornado/ioloop.py\", line 888, in start\n    handler_func(fd_obj, events)\n  File \"/home/tr/bin/anaconda2/envs/python3/lib/python3.5/site-packages/tornado/stack_context.py\", line 277, in null_wrapper\n    return fn(*args, **kwargs)\n  File \"/home/tr/bin/anaconda2/envs/python3/lib/python3.5/site-packages/zmq/eventloop/zmqstream.py\", line 440, in _handle_events\n    self._handle_recv()\n  File \"/home/tr/bin/anaconda2/envs/python3/lib/python3.5/site-packages/zmq/eventloop/zmqstream.py\", line 472, in _handle_recv\n    self._run_callback(callback, msg)\n  File \"/home/tr/bin/anaconda2/envs/python3/lib/python3.5/site-packages/zmq/eventloop/zmqstream.py\", line 414, in _run_callback\n    callback(*args, **kwargs)\n  File \"/home/tr/bin/anaconda2/envs/python3/lib/python3.5/site-packages/tornado/stack_context.py\", line 277, in null_wrapper\n    return fn(*args, **kwargs)\n  File \"/home/tr/bin/anaconda2/envs/python3/lib/python3.5/site-packages/ipykernel/kernelbase.py\", line 283, in dispatcher\n    return self.dispatch_shell(stream, msg)\n  File \"/home/tr/bin/anaconda2/envs/python3/lib/python3.5/site-packages/ipykernel/kernelbase.py\", line 235, in dispatch_shell\n    handler(stream, idents, msg)\n  File \"/home/tr/bin/anaconda2/envs/python3/lib/python3.5/site-packages/ipykernel/kernelbase.py\", line 399, in execute_request\n    user_expressions, allow_stdin)\n  File \"/home/tr/bin/anaconda2/envs/python3/lib/python3.5/site-packages/ipykernel/ipkernel.py\", line 196, in do_execute\n    res = shell.run_cell(code, store_history=store_history, silent=silent)\n  File \"/home/tr/bin/anaconda2/envs/python3/lib/python3.5/site-packages/ipykernel/zmqshell.py\", line 533, in run_cell\n    return super(ZMQInteractiveShell, self).run_cell(*args, **kwargs)\n  File \"/home/tr/bin/anaconda2/envs/python3/lib/python3.5/site-packages/IPython/core/interactiveshell.py\", line 2698, in run_cell\n    interactivity=interactivity, compiler=compiler, result=result)\n  File \"/home/tr/bin/anaconda2/envs/python3/lib/python3.5/site-packages/IPython/core/interactiveshell.py\", line 2802, in run_ast_nodes\n    if self.run_code(code, result):\n  File \"/home/tr/bin/anaconda2/envs/python3/lib/python3.5/site-packages/IPython/core/interactiveshell.py\", line 2862, in run_code\n    exec(code_obj, self.user_global_ns, self.user_ns)\n  File \"<ipython-input-38-150a783b3c63>\", line 3, in <module>\n    saver = tf.train.Saver(tf.global_variables())\n  File \"/home/tr/bin/anaconda2/envs/python3/lib/python3.5/site-packages/tensorflow/python/training/saver.py\", line 1218, in __init__\n    self.build()\n  File \"/home/tr/bin/anaconda2/envs/python3/lib/python3.5/site-packages/tensorflow/python/training/saver.py\", line 1227, in build\n    self._build(self._filename, build_save=True, build_restore=True)\n  File \"/home/tr/bin/anaconda2/envs/python3/lib/python3.5/site-packages/tensorflow/python/training/saver.py\", line 1263, in _build\n    build_save=build_save, build_restore=build_restore)\n  File \"/home/tr/bin/anaconda2/envs/python3/lib/python3.5/site-packages/tensorflow/python/training/saver.py\", line 751, in _build_internal\n    restore_sequentially, reshape)\n  File \"/home/tr/bin/anaconda2/envs/python3/lib/python3.5/site-packages/tensorflow/python/training/saver.py\", line 427, in _AddRestoreOps\n    tensors = self.restore_op(filename_tensor, saveable, preferred_shard)\n  File \"/home/tr/bin/anaconda2/envs/python3/lib/python3.5/site-packages/tensorflow/python/training/saver.py\", line 267, in restore_op\n    [spec.tensor.dtype])[0])\n  File \"/home/tr/bin/anaconda2/envs/python3/lib/python3.5/site-packages/tensorflow/python/ops/gen_io_ops.py\", line 1021, in restore_v2\n    shape_and_slices=shape_and_slices, dtypes=dtypes, name=name)\n  File \"/home/tr/bin/anaconda2/envs/python3/lib/python3.5/site-packages/tensorflow/python/framework/op_def_library.py\", line 787, in _apply_op_helper\n    op_def=op_def)\n  File \"/home/tr/bin/anaconda2/envs/python3/lib/python3.5/site-packages/tensorflow/python/framework/ops.py\", line 2956, in create_op\n    op_def=op_def)\n  File \"/home/tr/bin/anaconda2/envs/python3/lib/python3.5/site-packages/tensorflow/python/framework/ops.py\", line 1470, in __init__\n    self._traceback = self._graph._extract_stack()  # pylint: disable=protected-access\n\nNotFoundError (see above for traceback): Key hidden1_2/biases not found in checkpoint\n\t [[Node: save_2/RestoreV2_4 = RestoreV2[dtypes=[DT_FLOAT], _device=\"/job:localhost/replica:0/task:0/device:CPU:0\"](_arg_save_2/Const_0_0, save_2/RestoreV2_4/tensor_names, save_2/RestoreV2_4/shape_and_slices)]]\n"
     ]
    }
   ],
   "source": [
    "saver.restore(sess,'/tmp/tensorflow/stock/logs/fully_connected_feed/model.ckpt-399999')"
   ]
  },
  {
   "cell_type": "code",
   "execution_count": 7,
   "metadata": {},
   "outputs": [
    {
     "data": {
      "text/plain": [
       "139759788700616"
      ]
     },
     "execution_count": 7,
     "metadata": {},
     "output_type": "execute_result"
    }
   ],
   "source": [
    "c1=tf.get_collection(tf.GraphKeys.GLOBAL_VARIABLES)\n",
    "id(c1[0])"
   ]
  },
  {
   "cell_type": "code",
   "execution_count": 8,
   "metadata": {},
   "outputs": [
    {
     "data": {
      "text/plain": [
       "array([[-0.45168322,  0.06217299,  0.10346707, ..., -0.22709051,\n",
       "        -0.05904644, -0.19645779],\n",
       "       [-0.59765327,  0.05886054,  0.13266027, ..., -0.37125432,\n",
       "         0.01392381, -0.34523502],\n",
       "       [-0.19922237, -0.11970512, -0.1882323 , ..., -0.13983151,\n",
       "        -0.07576643,  0.4553189 ],\n",
       "       ..., \n",
       "       [ 0.51479733, -0.06777219, -0.23702817, ..., -0.06381192,\n",
       "         0.03805336,  0.06818637],\n",
       "       [ 0.65624684, -0.26029259,  0.1534306 , ...,  0.19288521,\n",
       "        -0.15269576,  0.09754656],\n",
       "       [-0.3069599 ,  0.42965773,  0.21626836, ..., -0.59415472,\n",
       "        -0.25250575,  0.29632926]], dtype=float32)"
      ]
     },
     "execution_count": 8,
     "metadata": {},
     "output_type": "execute_result"
    }
   ],
   "source": [
    "sess.run(c1[0])"
   ]
  },
  {
   "cell_type": "code",
   "execution_count": 9,
   "metadata": {},
   "outputs": [
    {
     "data": {
      "text/plain": [
       "array([[-1.15011621,  1.16808105],\n",
       "       [ 1.22168839, -1.20336699],\n",
       "       [-1.70385015,  1.53471136],\n",
       "       [-0.89946067,  0.37252653],\n",
       "       [ 1.43345237, -1.34937906],\n",
       "       [ 1.95745897, -1.59826064],\n",
       "       [ 0.46279502, -0.41671622],\n",
       "       [ 0.58406299, -0.63129938],\n",
       "       [ 2.50310421, -2.88839674],\n",
       "       [-0.79373997,  0.83299905],\n",
       "       [-2.53463173,  2.39857674],\n",
       "       [ 2.80531144, -2.57007313],\n",
       "       [-3.20264316,  3.50598884],\n",
       "       [ 0.77303743, -0.82189441],\n",
       "       [ 3.00011134, -2.56888008],\n",
       "       [-0.00606851, -0.47558758],\n",
       "       [ 1.05219495, -1.07342875],\n",
       "       [ 3.20052028, -3.24297476],\n",
       "       [-3.42728281,  3.50016117],\n",
       "       [-2.0049057 ,  2.10339546]], dtype=float32)"
      ]
     },
     "execution_count": 9,
     "metadata": {},
     "output_type": "execute_result"
    }
   ],
   "source": [
    "sess.run(c1[4])"
   ]
  },
  {
   "cell_type": "code",
   "execution_count": 26,
   "metadata": {},
   "outputs": [],
   "source": [
    "data=df_002024_norm['20171215':'20161124']\n",
    "features=[]\n",
    "lables=[]\n",
    "date=[]\n",
    "for index in range(data.index.size):\n",
    "    slice=data[data.index.size-6-index:data.index.size-index]\n",
    "    if(slice.index.size<6):\n",
    "        break\n",
    "    features.append(slice[1:6].values.flatten())\n",
    "    date.append(slice.index[0])\n",
    "    if (slice.close[0]-slice.close[1])/slice.close[1]>0.03:\n",
    "        lables.append(0)\n",
    "    else:\n",
    "        lables.append(1)\n"
   ]
  },
  {
   "cell_type": "code",
   "execution_count": 27,
   "metadata": {},
   "outputs": [
    {
     "data": {
      "text/plain": [
       "252"
      ]
     },
     "execution_count": 27,
     "metadata": {},
     "output_type": "execute_result"
    }
   ],
   "source": [
    "len(features)"
   ]
  },
  {
   "cell_type": "code",
   "execution_count": 28,
   "metadata": {
    "collapsed": true
   },
   "outputs": [],
   "source": [
    "a=sess.run(predic,{features_placeholder:features})\n"
   ]
  },
  {
   "cell_type": "code",
   "execution_count": 29,
   "metadata": {},
   "outputs": [
    {
     "data": {
      "text/plain": [
       "array([[ -2.36610246e+00,   1.73942602e+00],\n",
       "       [ -2.03243518e+00,   1.73028445e+00],\n",
       "       [ -6.32492733e+00,   6.21444416e+00],\n",
       "       [  4.74057853e-01,  -7.47891605e-01],\n",
       "       [  3.99879038e-01,  -5.52644670e-01],\n",
       "       [ -3.92133689e+00,   4.21936131e+00],\n",
       "       [ -3.61644769e+00,   3.56522346e+00],\n",
       "       [ -6.38594675e+00,   6.19595289e+00],\n",
       "       [ -2.73593473e+00,   3.83015251e+00],\n",
       "       [ -5.36424100e-01,   5.81047237e-01],\n",
       "       [  1.49359062e-01,  -3.03293914e-02],\n",
       "       [ -2.85238838e+00,   1.48153448e+00],\n",
       "       [ -1.12300944e+00,   5.49993098e-01],\n",
       "       [ -4.79317665e+00,   4.33680868e+00],\n",
       "       [ -3.82731628e+00,   3.26588178e+00],\n",
       "       [ -2.73616242e+00,   1.90545857e+00],\n",
       "       [ -2.51169372e+00,   1.16377246e+00],\n",
       "       [ -2.43764424e+00,   1.27129102e+00],\n",
       "       [ -3.75481582e+00,   2.48554945e+00],\n",
       "       [ -4.23797655e+00,   2.99590945e+00],\n",
       "       [ -2.71673155e+00,   1.68792248e+00],\n",
       "       [ -2.09319949e+00,   9.71675456e-01],\n",
       "       [ -3.43599582e+00,   2.23728991e+00],\n",
       "       [ -3.65447593e+00,   2.85882258e+00],\n",
       "       [ -1.47409141e+00,   1.29882467e+00],\n",
       "       [ -2.19120264e+00,   1.34491670e+00],\n",
       "       [ -2.76357770e+00,   1.39336693e+00],\n",
       "       [ -1.55490768e+00,   6.51758015e-01],\n",
       "       [ -2.67641187e+00,   1.75200951e+00],\n",
       "       [ -2.01575661e+00,   9.58292067e-01],\n",
       "       [ -3.50707698e+00,   2.71831560e+00],\n",
       "       [ -3.72484875e+00,   3.50361323e+00],\n",
       "       [ -1.74938643e+00,   2.22927809e+00],\n",
       "       [ -1.96661198e+00,   1.81633043e+00],\n",
       "       [ -3.54485345e+00,   2.94060111e+00],\n",
       "       [ -1.75053322e+00,  -1.22678205e-01],\n",
       "       [ -2.18295193e+00,   8.42888892e-01],\n",
       "       [ -2.39888215e+00,   1.50094700e+00],\n",
       "       [ -4.32290602e+00,   3.34542179e+00],\n",
       "       [ -3.00891328e+00,   1.59540546e+00],\n",
       "       [ -3.21380210e+00,   1.91411674e+00],\n",
       "       [ -2.82817960e+00,   1.62645614e+00],\n",
       "       [ -4.28138638e+00,   3.09755135e+00],\n",
       "       [ -3.45097995e+00,   2.03544521e+00],\n",
       "       [ -3.00257897e+00,   1.87952745e+00],\n",
       "       [ -2.66402340e+00,   1.58566201e+00],\n",
       "       [ -3.90797782e+00,   2.62687922e+00],\n",
       "       [ -2.86709332e+00,   1.98345292e+00],\n",
       "       [ -1.83449459e+00,   9.48925316e-01],\n",
       "       [ -4.26228094e+00,   3.38483095e+00],\n",
       "       [ -2.53697276e+00,   1.28022611e+00],\n",
       "       [ -3.16706300e+00,   2.10202360e+00],\n",
       "       [ -2.59418225e+00,   1.97005737e+00],\n",
       "       [ -3.66832376e+00,   2.99665475e+00],\n",
       "       [ -2.43552923e+00,   2.26215792e+00],\n",
       "       [ -3.96864676e+00,   3.33548808e+00],\n",
       "       [ -2.01597929e+00,   6.38797104e-01],\n",
       "       [ -3.57281995e+00,   2.01529360e+00],\n",
       "       [ -2.81777453e+00,   1.50941074e+00],\n",
       "       [ -2.20021963e+00,   1.29254186e+00],\n",
       "       [ -3.34695816e+00,   2.26805782e+00],\n",
       "       [ -2.22422934e+00,   9.48415816e-01],\n",
       "       [ -3.94847274e+00,   2.91313267e+00],\n",
       "       [ -3.20178652e+00,   1.88005674e+00],\n",
       "       [ -1.79421663e+00,   8.45230281e-01],\n",
       "       [ -2.89915323e+00,   1.88048410e+00],\n",
       "       [ -3.06291795e+00,   1.84610331e+00],\n",
       "       [ -4.70155573e+00,   3.63743877e+00],\n",
       "       [ -3.71108985e+00,   2.30376482e+00],\n",
       "       [ -2.39570785e+00,   1.05403662e+00],\n",
       "       [ -3.56492209e+00,   2.24569464e+00],\n",
       "       [ -2.86755967e+00,   1.86739933e+00],\n",
       "       [ -1.65125906e+00,   8.15588892e-01],\n",
       "       [ -4.18208027e+00,   3.00042081e+00],\n",
       "       [ -3.82496142e+00,   2.33642483e+00],\n",
       "       [ -1.77791345e+00,   4.88677561e-01],\n",
       "       [ -3.67075753e+00,   2.30168581e+00],\n",
       "       [ -3.31148219e+00,   1.92183840e+00],\n",
       "       [ -3.47980666e+00,   2.05386043e+00],\n",
       "       [ -4.06108379e+00,   2.63484287e+00],\n",
       "       [ -3.05098987e+00,   2.28363657e+00],\n",
       "       [ -1.73217165e+00,   1.03515995e+00],\n",
       "       [ -8.42886353e+00,   8.49210835e+00],\n",
       "       [ -3.21405816e+00,   2.27071857e+00],\n",
       "       [ -2.62400031e+00,   1.38012660e+00],\n",
       "       [ -4.75160027e+00,   2.98661757e+00],\n",
       "       [ -1.40651309e+00,   3.42012823e-01],\n",
       "       [ -3.78811550e+00,   2.81206512e+00],\n",
       "       [ -2.67162967e+00,   1.40353787e+00],\n",
       "       [ -3.16380882e+00,   2.18466234e+00],\n",
       "       [ -2.23114562e+00,   1.37377810e+00],\n",
       "       [ -2.56218171e+00,   1.65910316e+00],\n",
       "       [ -2.60946918e+00,   1.47593260e+00],\n",
       "       [ -1.86507785e+00,   5.49515784e-01],\n",
       "       [ -2.90418267e+00,   1.50204599e+00],\n",
       "       [ -4.06941366e+00,   3.36886168e+00],\n",
       "       [ -8.57208908e-01,   4.24442828e-01],\n",
       "       [ -3.67687273e+00,   3.13021922e+00],\n",
       "       [ -2.33621335e+00,   7.95353830e-01],\n",
       "       [ -4.61216271e-01,  -7.69806087e-01],\n",
       "       [ -2.69327140e+00,   1.57293570e+00],\n",
       "       [ -2.30345941e+00,   1.70738137e+00],\n",
       "       [ -1.58014989e+00,   5.08783281e-01],\n",
       "       [ -2.91531968e+00,   1.89581501e+00],\n",
       "       [ -2.23896599e+00,   1.79935563e+00],\n",
       "       [ -1.89746988e+00,   1.23469937e+00],\n",
       "       [ -2.64967608e+00,   1.91212475e+00],\n",
       "       [ -1.96920383e+00,   9.17148650e-01],\n",
       "       [ -2.24661493e+00,   1.21269715e+00],\n",
       "       [ -2.07150912e+00,   1.32046378e+00],\n",
       "       [ -4.26610422e+00,   4.04543066e+00],\n",
       "       [ -1.68410218e+00,   9.61976349e-01],\n",
       "       [ -2.28101444e+00,   1.76971531e+00],\n",
       "       [ -2.38458514e+00,   1.38417840e+00],\n",
       "       [ -2.38743472e+00,   1.43188822e+00],\n",
       "       [ -2.15965343e+00,   1.34641063e+00],\n",
       "       [ -1.83285904e+00,   1.27494848e+00],\n",
       "       [ -4.21216154e+00,   3.68332863e+00],\n",
       "       [ -2.85429955e+00,   1.60487747e+00],\n",
       "       [ -2.13588262e+00,   8.02116215e-01],\n",
       "       [ -3.64203596e+00,   2.84025717e+00],\n",
       "       [ -1.37516749e+00,   1.28814852e+00],\n",
       "       [ -2.42280006e+00,   1.96756327e+00],\n",
       "       [ -3.31753445e+00,   2.12451410e+00],\n",
       "       [ -4.58317137e+00,   3.64986992e+00],\n",
       "       [ -1.04288852e+00,   5.61686575e-01],\n",
       "       [ -1.58303797e+00,   1.02339482e+00],\n",
       "       [ -5.40543175e+00,   4.71558142e+00],\n",
       "       [ -2.02458978e+00,   2.00090218e+00],\n",
       "       [ -4.17085123e+00,   3.86950636e+00],\n",
       "       [ -5.05266523e+00,   4.03673983e+00],\n",
       "       [ -2.25017190e+00,   1.03664005e+00],\n",
       "       [ -2.86941838e+00,   1.80601144e+00],\n",
       "       [ -3.02875352e+00,   1.76835132e+00],\n",
       "       [ -2.31291795e+00,   1.43756914e+00],\n",
       "       [ -2.72665238e+00,   2.27054214e+00],\n",
       "       [ -1.08798754e+00,   8.57739747e-01],\n",
       "       [ -4.98190975e+00,   4.73502064e+00],\n",
       "       [ -2.00664878e+00,   1.09670651e+00],\n",
       "       [ -1.18381426e-01,  -4.76823747e-01],\n",
       "       [ -1.15097249e+00,   4.27163392e-02],\n",
       "       [ -1.94600785e+00,   1.57039702e+00],\n",
       "       [ -2.40181661e+00,   1.37484658e+00],\n",
       "       [ -2.56530190e+00,   1.15614963e+00],\n",
       "       [ -1.31975389e+00,   4.37318146e-01],\n",
       "       [ -3.22339201e+00,   2.40688515e+00],\n",
       "       [ -2.30044031e+00,   1.07168698e+00],\n",
       "       [ -4.07305670e+00,   2.56606364e+00],\n",
       "       [ -2.12944055e+00,   8.30098927e-01],\n",
       "       [ -1.73748291e+00,   5.40130317e-01],\n",
       "       [ -3.31845689e+00,   1.85130000e+00],\n",
       "       [ -1.61668193e+00,   4.54704702e-01],\n",
       "       [ -5.60054922e+00,   5.80711126e+00],\n",
       "       [ -3.55360293e+00,   3.20500898e+00],\n",
       "       [ -3.49584222e+00,   4.15424967e+00],\n",
       "       [ -5.45929670e+00,   4.33262587e+00],\n",
       "       [ -1.80319035e+00,   7.45916665e-01],\n",
       "       [ -3.85389733e+00,   2.24094009e+00],\n",
       "       [ -1.32309711e+00,  -6.21244311e-04],\n",
       "       [ -1.93556988e+00,   8.93422425e-01],\n",
       "       [ -4.04143000e+00,   3.15964413e+00],\n",
       "       [ -1.68972218e+00,   1.11066473e+00],\n",
       "       [  3.32200825e-01,  -6.79768503e-01],\n",
       "       [ -3.37331033e+00,   3.68068171e+00],\n",
       "       [ -6.76740122e+00,   6.61136580e+00],\n",
       "       [ -7.79099607e+00,   6.94882202e+00],\n",
       "       [ -2.87478185e+00,   2.48339796e+00],\n",
       "       [ -2.10488629e+00,   1.26829851e+00],\n",
       "       [ -2.55260587e+00,   1.64971173e+00],\n",
       "       [ -2.81430602e+00,   2.32727170e+00],\n",
       "       [ -2.94953132e+00,   2.20549822e+00],\n",
       "       [  1.80691078e-01,  -3.83116186e-01],\n",
       "       [  3.34416687e-01,   1.52226046e-01],\n",
       "       [ -8.95670354e-01,   3.07916582e-01],\n",
       "       [ -2.77942109e+00,   2.02010393e+00],\n",
       "       [ -2.40292454e+00,   1.62278855e+00],\n",
       "       [ -2.17001152e+00,   1.07661307e+00],\n",
       "       [ -3.03585362e+00,   1.97531998e+00],\n",
       "       [ -9.25254762e-01,   6.58500969e-01],\n",
       "       [ -1.36064565e+00,   7.08582461e-01],\n",
       "       [ -3.45752025e+00,   2.80484533e+00],\n",
       "       [ -9.19526041e-01,  -8.91546905e-03],\n",
       "       [ -2.73665786e+00,   1.61479485e+00],\n",
       "       [ -3.77878714e+00,   2.10082579e+00],\n",
       "       [ -2.05443096e+00,   5.44449866e-01],\n",
       "       [ -1.99717057e+00,   1.11690664e+00],\n",
       "       [ -3.06697869e+00,   1.88655603e+00],\n",
       "       [ -4.19740152e+00,   2.68110991e+00],\n",
       "       [ -3.05706668e+00,   1.65412986e+00],\n",
       "       [ -9.81720150e-01,  -2.91780412e-01],\n",
       "       [ -3.18437457e+00,   2.14183450e+00],\n",
       "       [ -2.72996688e+00,   1.61844981e+00],\n",
       "       [ -2.29180241e+00,   1.05932200e+00],\n",
       "       [ -2.97984600e+00,   1.26792443e+00],\n",
       "       [ -7.52666771e-01,  -3.83008778e-01],\n",
       "       [ -1.14692616e+00,   9.33773816e-03],\n",
       "       [ -1.84571052e+00,   6.30270541e-01],\n",
       "       [ -2.02388477e+00,   1.66753399e+00],\n",
       "       [ -2.01875281e+00,   1.93551624e+00],\n",
       "       [ -4.37006378e+00,   4.04701424e+00],\n",
       "       [ -4.79855585e+00,   3.92537737e+00],\n",
       "       [ -8.48385543e-02,  -8.49174678e-01],\n",
       "       [ -2.21599293e+00,   1.62447286e+00],\n",
       "       [ -1.17657587e-01,   5.57883084e-03],\n",
       "       [ -7.46722126e+00,   7.26073885e+00],\n",
       "       [ -2.31399369e+00,   1.54628098e+00],\n",
       "       [ -2.65296626e+00,   2.45146751e+00],\n",
       "       [ -1.03738153e+00,  -4.41240251e-01],\n",
       "       [ -2.08249569e+00,   1.22718394e+00],\n",
       "       [ -1.15525639e+00,   3.65325570e-01],\n",
       "       [ -1.84321547e+00,   1.33217251e+00],\n",
       "       [ -2.73383665e+00,   1.63275135e+00],\n",
       "       [ -5.18336153e+00,   3.73619747e+00],\n",
       "       [  8.33838731e-02,  -8.70249212e-01],\n",
       "       [ -3.37548852e+00,   2.74812341e+00],\n",
       "       [ -2.47412348e+00,   1.09557033e+00],\n",
       "       [ -1.59108436e+00,   4.06388104e-01],\n",
       "       [ -2.82441545e+00,   1.76655340e+00],\n",
       "       [ -1.67912138e+00,   1.02415621e+00],\n",
       "       [ -3.14379859e+00,   2.19870186e+00],\n",
       "       [ -3.95241904e+00,   2.86199164e+00],\n",
       "       [ -1.85439503e+00,   1.02844727e+00],\n",
       "       [ -3.07140756e+00,   2.13820267e+00],\n",
       "       [  2.69524872e-01,  -1.05192244e+00],\n",
       "       [ -2.54117668e-01,  -2.67018974e-01],\n",
       "       [ -4.46121168e+00,   3.41582394e+00],\n",
       "       [ -3.60192513e+00,   2.84850025e+00],\n",
       "       [ -2.05431437e+00,   6.81689799e-01],\n",
       "       [ -6.09745836e+00,   4.89087152e+00],\n",
       "       [ -4.44418478e+00,   3.39616013e+00],\n",
       "       [ -2.07196236e+00,   2.00793076e+00],\n",
       "       [ -3.00884461e+00,   2.80470276e+00],\n",
       "       [ -6.90514708e+00,   6.04455280e+00],\n",
       "       [ -3.24454784e+00,   2.77922964e+00],\n",
       "       [ -1.24220216e+00,   5.18982053e-01],\n",
       "       [ -2.39947963e+00,   2.37663436e+00],\n",
       "       [ -2.19368529e+00,   1.08361232e+00],\n",
       "       [ -8.29052627e-01,   1.27669704e+00],\n",
       "       [ -1.15310109e+00,   2.66006529e-01],\n",
       "       [ -4.52017879e+00,   4.65420580e+00],\n",
       "       [ -1.48726022e+00,   5.01822531e-01],\n",
       "       [ -4.01637125e+00,   2.89261913e+00],\n",
       "       [ -1.74932182e+00,   1.05546141e+00],\n",
       "       [ -1.78114736e+00,   6.58763945e-01],\n",
       "       [ -3.64524937e+00,   2.36119318e+00],\n",
       "       [ -1.65996242e+00,   3.52145255e-01],\n",
       "       [ -2.29194283e+00,   1.30071235e+00],\n",
       "       [ -3.23478055e+00,   3.11260414e+00],\n",
       "       [ -1.70811570e+00,   1.25543129e+00],\n",
       "       [ -4.95755386e+00,   4.44047117e+00],\n",
       "       [ -1.60102105e+00,   1.07189381e+00],\n",
       "       [ -2.88579869e+00,   2.82794714e+00]], dtype=float32)"
      ]
     },
     "execution_count": 29,
     "metadata": {},
     "output_type": "execute_result"
    }
   ],
   "source": [
    "a"
   ]
  },
  {
   "cell_type": "code",
   "execution_count": 30,
   "metadata": {
    "scrolled": true
   },
   "outputs": [
    {
     "name": "stdout",
     "output_type": "stream",
     "text": [
      "20161201 0.0162141 0.983786\n",
      "20161202 0.0226935 0.977306\n",
      "20161205 3.58277e-06 0.999996\n",
      "20161206 0.772406 0.227594\n",
      "20161207 0.721622 0.278378\n",
      "20161208 0.000291349 0.999709\n",
      "20161209 0.000759818 0.99924\n",
      "20161212 3.43359e-06 0.999997\n",
      "20161213 0.00140532 0.998595\n",
      "20161214 0.246481 0.753519\n",
      "20161215 0.544802 0.455198\n",
      "20161216 0.0129462 0.987054\n",
      "20161219 0.158024 0.841976\n",
      "20161220 0.000108355 0.999892\n",
      "20161221 0.000830047 0.99917\n",
      "20161222 0.00954997 0.99045\n",
      "20161223 0.0247115 0.975289\n",
      "20161226 0.0239175 0.976083\n",
      "20161227 0.00194535 0.998055\n",
      "20161228 0.00072119 0.999279\n",
      "20161229 0.0120728 0.987927\n",
      "20161230 0.0445796 0.95542\n",
      "20170103 0.00342479 0.996575\n",
      "20170104 0.00148138 0.998519\n",
      "20170105 0.0588054 0.941195\n",
      "20170106 0.0283018 0.971698\n",
      "20170109 0.015414 0.984586\n",
      "20170110 0.0991535 0.900846\n",
      "20170111 0.0117926 0.988207\n",
      "20170112 0.0486121 0.951388\n",
      "20170113 0.00197464 0.998025\n",
      "20170116 0.00072511 0.999275\n",
      "20170117 0.018367 0.981633\n",
      "20170118 0.0222493 0.977751\n",
      "20170119 0.00152314 0.998477\n",
      "20170120 0.164124 0.835876\n",
      "20170123 0.046272 0.953728\n",
      "20170124 0.0198436 0.980156\n",
      "20170125 0.00046718 0.999533\n",
      "20170126 0.00990934 0.990091\n",
      "20170203 0.00589394 0.994106\n",
      "20170206 0.011491 0.988509\n",
      "20170207 0.000623874 0.999376\n",
      "20170208 0.00412554 0.995874\n",
      "20170209 0.00752399 0.992476\n",
      "20170210 0.014068 0.985932\n",
      "20170213 0.00144983 0.99855\n",
      "20170214 0.00776336 0.992237\n",
      "20170215 0.0582267 0.941773\n",
      "20170216 0.000477193 0.999523\n",
      "20170217 0.0215162 0.978484\n",
      "20170220 0.00512194 0.994878\n",
      "20170221 0.0103104 0.98969\n",
      "20170222 0.00127316 0.998727\n",
      "20170223 0.00903398 0.990966\n",
      "20170224 0.000672299 0.999328\n",
      "20170227 0.0656952 0.934305\n",
      "20170228 0.00372813 0.996272\n",
      "20170301 0.0130326 0.986967\n",
      "20170302 0.0295189 0.970481\n",
      "20170303 0.00362953 0.99637\n",
      "20170306 0.0402082 0.959792\n",
      "20170307 0.00104614 0.998954\n",
      "20170308 0.00617015 0.99383\n",
      "20170309 0.0666424 0.933358\n",
      "20170310 0.00832909 0.991671\n",
      "20170313 0.00732565 0.992674\n",
      "20170314 0.000238955 0.999761\n",
      "20170315 0.00243625 0.997564\n",
      "20170316 0.0307765 0.969224\n",
      "20170317 0.00298664 0.997013\n",
      "20170320 0.00870634 0.991294\n",
      "20170321 0.0782152 0.921785\n",
      "20170322 0.000759188 0.999241\n",
      "20170323 0.00210489 0.997895\n",
      "20170324 0.0939279 0.906072\n",
      "20170327 0.00254153 0.997458\n",
      "20170328 0.00530746 0.994693\n",
      "20170329 0.00393592 0.996064\n",
      "20170330 0.00123441 0.998766\n",
      "20170331 0.00479857 0.995201\n",
      "20170405 0.0591153 0.940885\n",
      "20170406 4.48038e-08 1.0\n",
      "20170407 0.00413231 0.995868\n",
      "20170410 0.0179135 0.982086\n",
      "20170411 0.000435658 0.999564\n",
      "20170412 0.148233 0.851767\n",
      "20170413 0.00135827 0.998642\n",
      "20170414 0.0167056 0.983294\n",
      "20170417 0.00473291 0.995267\n",
      "20170418 0.0264698 0.97353\n",
      "20170419 0.0144674 0.985533\n",
      "20170420 0.0165383 0.983462\n",
      "20170421 0.0820666 0.917933\n",
      "20170424 0.012054 0.987946\n",
      "20170425 0.000587953 0.999412\n",
      "20170426 0.217269 0.782731\n",
      "20170427 0.00110468 0.998895\n",
      "20170428 0.0418238 0.958176\n",
      "20170502 0.576541 0.423459\n",
      "20170503 0.0138407 0.986159\n",
      "20170504 0.0177957 0.982204\n",
      "20170505 0.110177 0.889823\n",
      "20170508 0.00807292 0.991927\n",
      "20170509 0.0173217 0.982678\n",
      "20170510 0.0417996 0.9582\n",
      "20170511 0.0103353 0.989665\n",
      "20170512 0.0528323 0.947168\n",
      "20170515 0.0304924 0.969508\n",
      "20170516 0.0325473 0.967453\n",
      "20170517 0.000245606 0.999754\n",
      "20170518 0.0662311 0.933769\n",
      "20170519 0.0171118 0.982888\n",
      "20170522 0.0225599 0.97744\n",
      "20170523 0.0214715 0.978528\n",
      "20170524 0.0291402 0.97086\n",
      "20170525 0.0427863 0.957214\n",
      "20170526 0.000372281 0.999628\n",
      "20170531 0.0114395 0.98856\n",
      "20170601 0.0503068 0.949693\n",
      "20170602 0.00152796 0.998472\n",
      "20170605 0.065173 0.934827\n",
      "20170606 0.0122444 0.987756\n",
      "20170607 0.00431193 0.995688\n",
      "20170608 0.000265656 0.999734\n",
      "20170609 0.167343 0.832657\n",
      "20170612 0.0687256 0.931274\n",
      "20170613 4.02237e-05 0.99996\n",
      "20170614 0.0175414 0.982459\n",
      "20170615 0.00032209 0.999678\n",
      "20170616 0.000112842 0.999887\n",
      "20170619 0.0360264 0.963974\n",
      "20170620 0.00923543 0.990765\n",
      "20170621 0.00818604 0.991814\n",
      "20170622 0.0229664 0.977034\n",
      "20170623 0.00671153 0.993288\n",
      "20170626 0.12502 0.87498\n",
      "20170627 6.0251e-05 0.99994\n",
      "20170628 0.0429691 0.957031\n",
      "20170629 0.588663 0.411337\n",
      "20170630 0.2326 0.7674\n",
      "20170703 0.028849 0.971151\n",
      "20170704 0.0223863 0.977614\n",
      "20170705 0.0236271 0.976373\n",
      "20170706 0.147157 0.852843\n",
      "20170707 0.00357476 0.996425\n",
      "20170710 0.033178 0.966822\n",
      "20170711 0.00130647 0.998694\n",
      "20170712 0.0492876 0.950712\n",
      "20170713 0.0929941 0.907006\n",
      "20170714 0.0056538 0.994346\n",
      "20170717 0.111909 0.888091\n",
      "20170718 1.11099e-05 0.999989\n",
      "20170719 0.00115949 0.998841\n",
      "20170720 0.000475774 0.999524\n",
      "20170721 5.58982e-05 0.999944\n",
      "20170724 0.0724865 0.927514\n",
      "20170725 0.00224941 0.997751\n",
      "20170726 0.210407 0.789593\n",
      "20170727 0.0557774 0.944223\n",
      "20170728 0.000745229 0.999255\n",
      "20170731 0.0573033 0.942697\n",
      "20170801 0.733405 0.266595\n",
      "20170802 0.000863207 0.999137\n",
      "20170803 1.54766e-06 0.999998\n",
      "20170804 3.96806e-07 1.0\n",
      "20170807 0.00468739 0.995313\n",
      "20170808 0.0331441 0.966856\n",
      "20170809 0.0147403 0.98526\n",
      "20170810 0.00581445 0.994186\n",
      "20170811 0.0057372 0.994263\n",
      "20170814 0.637333 0.362667\n",
      "20170815 0.545422 0.454578\n",
      "20170816 0.230838 0.769162\n",
      "20170821 0.00816642 0.991834\n",
      "20170822 0.0175376 0.982462\n",
      "20170823 0.0374484 0.962552\n",
      "20170824 0.00661898 0.993381\n",
      "20170825 0.170264 0.829736\n",
      "20170828 0.112124 0.887876\n",
      "20170829 0.0019031 0.998097\n",
      "20170830 0.286875 0.713125\n",
      "20170831 0.0127241 0.987276\n",
      "20170901 0.00278807 0.997212\n",
      "20170904 0.0692105 0.93079\n",
      "20170905 0.0425303 0.95747\n",
      "20170906 0.00700894 0.992991\n",
      "20170907 0.00102862 0.998971\n",
      "20170908 0.00891384 0.991086\n",
      "20170911 0.334046 0.665954\n",
      "20170912 0.00483894 0.995161\n",
      "20170913 0.0127623 0.987238\n",
      "20170914 0.0338584 0.966142\n",
      "20170915 0.0140946 0.985905\n",
      "20170918 0.408624 0.591376\n",
      "20170919 0.239347 0.760653\n",
      "20170920 0.0775592 0.922441\n",
      "20170922 0.0243299 0.97567\n",
      "20170925 0.018812 0.981188\n",
      "20170926 0.000221011 0.999779\n",
      "20170927 0.00016262 0.999837\n",
      "20170928 0.682294 0.317706\n",
      "20170929 0.0210318 0.978968\n",
      "20171009 0.46923 0.53077\n",
      "20171010 4.01539e-07 1.0\n",
      "20171011 0.0206277 0.979372\n",
      "20171012 0.00603316 0.993967\n",
      "20171013 0.355227 0.644773\n",
      "20171016 0.0352406 0.964759\n",
      "20171017 0.179376 0.820624\n",
      "20171018 0.0401025 0.959898\n",
      "20171019 0.0125354 0.987465\n",
      "20171020 0.000133729 0.999866\n",
      "20171023 0.721845 0.278155\n",
      "20171024 0.00218574 0.997814\n",
      "20171025 0.027393 0.972607\n",
      "20171026 0.119469 0.880531\n",
      "20171027 0.0100412 0.989959\n",
      "20171030 0.0627802 0.93722\n",
      "20171031 0.00476112 0.995239\n",
      "20171101 0.00109664 0.998903\n",
      "20171102 0.0530083 0.946992\n",
      "20171103 0.00543411 0.994566\n",
      "20171106 0.789422 0.210578\n",
      "20171107 0.503225 0.496775\n",
      "20171108 0.000379212 0.999621\n",
      "20171109 0.00157736 0.998423\n",
      "20171110 0.060882 0.939118\n",
      "20171113 1.68975e-05 0.999983\n",
      "20171114 0.000393378 0.999607\n",
      "20171115 0.0166281 0.983372\n",
      "20171116 0.00297792 0.997022\n",
      "20171117 2.37693e-06 0.999998\n",
      "20171120 0.00241466 0.997585\n",
      "20171121 0.146642 0.853358\n",
      "20171122 0.00835824 0.991642\n",
      "20171123 0.0363583 0.963642\n",
      "20171124 0.108539 0.891461\n",
      "20171127 0.194802 0.805198\n",
      "20171128 0.00010365 0.999896\n",
      "20171129 0.120354 0.879646\n",
      "20171130 0.000997769 0.999002\n",
      "20171201 0.0570662 0.942934\n",
      "20171204 0.0801795 0.919821\n",
      "20171205 0.00245678 0.997543\n",
      "20171206 0.117938 0.882062\n",
      "20171207 0.0267878 0.973212\n",
      "20171208 0.00174826 0.998252\n",
      "20171211 0.0491001 0.9509\n",
      "20171212 8.28807e-05 0.999917\n",
      "20171213 0.0645906 0.935409\n",
      "20171214 0.00328943 0.996711\n"
     ]
    }
   ],
   "source": [
    "for i in range(a.shape[0]):\n",
    "    y = np.exp(a[i])\n",
    "    y1=y[0]/y.sum()\n",
    "    y2=y[1]/y.sum()\n",
    "    print(date[i],y1,y2)"
   ]
  },
  {
   "cell_type": "code",
   "execution_count": null,
   "metadata": {
    "collapsed": true
   },
   "outputs": [],
   "source": [
    "sess.run(c1[0])"
   ]
  },
  {
   "cell_type": "code",
   "execution_count": null,
   "metadata": {
    "collapsed": true
   },
   "outputs": [],
   "source": [
    "sess.run(c1[1])"
   ]
  },
  {
   "cell_type": "code",
   "execution_count": null,
   "metadata": {
    "collapsed": true
   },
   "outputs": [],
   "source": [
    "sess.run(c1[2])"
   ]
  },
  {
   "cell_type": "code",
   "execution_count": null,
   "metadata": {
    "collapsed": true
   },
   "outputs": [],
   "source": [
    "sess.run(c1[3])"
   ]
  },
  {
   "cell_type": "code",
   "execution_count": null,
   "metadata": {
    "collapsed": true
   },
   "outputs": [],
   "source": [
    "sess.run(c1[4])"
   ]
  },
  {
   "cell_type": "code",
   "execution_count": null,
   "metadata": {
    "collapsed": true
   },
   "outputs": [],
   "source": [
    "sess.run(c1[5])"
   ]
  },
  {
   "cell_type": "code",
   "execution_count": null,
   "metadata": {
    "collapsed": true
   },
   "outputs": [],
   "source": [
    "id(c1)"
   ]
  },
  {
   "cell_type": "code",
   "execution_count": null,
   "metadata": {
    "collapsed": true
   },
   "outputs": [],
   "source": [
    "saver.restore(sess,'/tmp/tensorflow/stock/logs/fully_connected_feed/model.ckpt-399999')\n",
    "c1=tf.get_collection(tf.GraphKeys.GLOBAL_VARIABLES)\n",
    "id(c1)"
   ]
  }
 ],
 "metadata": {
  "kernelspec": {
   "display_name": "Python 3",
   "language": "python",
   "name": "python3"
  },
  "language_info": {
   "codemirror_mode": {
    "name": "ipython",
    "version": 3
   },
   "file_extension": ".py",
   "mimetype": "text/x-python",
   "name": "python",
   "nbconvert_exporter": "python",
   "pygments_lexer": "ipython3",
   "version": "3.5.4"
  }
 },
 "nbformat": 4,
 "nbformat_minor": 2
}
